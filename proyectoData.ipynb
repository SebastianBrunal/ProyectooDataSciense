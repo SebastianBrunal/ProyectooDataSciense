{
 "cells": [
  {
   "cell_type": "code",
   "execution_count": 1,
   "metadata": {},
   "outputs": [
    {
     "name": "stdout",
     "output_type": "stream",
     "text": [
      "['.git', '.gitattributes', 'Mapa_Sonoro_-_Lenguas_Nativas_de_Colombia_20240730.csv', 'proyectoData.ipynb', 'readme.Md']\n"
     ]
    },
    {
     "data": {
      "text/plain": [
       "[]"
      ]
     },
     "execution_count": 1,
     "metadata": {},
     "output_type": "execute_result"
    }
   ],
   "source": [
    "import pandas as pd\n",
    "import os\n",
    "import warnings\n",
    "warnings.filterwarnings(\"ignore\")\n",
    "path= os.getcwd()\n",
    "print(os.listdir())\n",
    "fileName=[x for x in os.listdir () if 'Data BreachesN.csv' in x]\n",
    "fileName"
   ]
  },
  {
   "cell_type": "code",
   "execution_count": 11,
   "metadata": {},
   "outputs": [
    {
     "name": "stdout",
     "output_type": "stream",
     "text": [
      "c:\\Users\\juanb\\proyectoDataSciense\\ProyectooDataSciense\\\n"
     ]
    }
   ],
   "source": [
    "path ='c:\\\\Users\\\\juanb\\\\proyectoDataSciense\\\\ProyectooDataSciense\\\\' \n",
    "fileName='Mapa_Sonoro_-_Lenguas_Nativas_de_Colombia_20240730.csv'\n",
    "print(path)"
   ]
  },
  {
   "cell_type": "code",
   "execution_count": 12,
   "metadata": {},
   "outputs": [
    {
     "data": {
      "text/html": [
       "<div>\n",
       "<style scoped>\n",
       "    .dataframe tbody tr th:only-of-type {\n",
       "        vertical-align: middle;\n",
       "    }\n",
       "\n",
       "    .dataframe tbody tr th {\n",
       "        vertical-align: top;\n",
       "    }\n",
       "\n",
       "    .dataframe thead th {\n",
       "        text-align: right;\n",
       "    }\n",
       "</style>\n",
       "<table border=\"1\" class=\"dataframe\">\n",
       "  <thead>\n",
       "    <tr style=\"text-align: right;\">\n",
       "      <th></th>\n",
       "      <th>Nombre de Lengua</th>\n",
       "      <th>Descripción de Lengua</th>\n",
       "      <th>Departamento</th>\n",
       "      <th>Familia Lingüística</th>\n",
       "      <th>Número de Habitantes</th>\n",
       "      <th>Número de Hablantes</th>\n",
       "      <th>Vitalidad</th>\n",
       "    </tr>\n",
       "  </thead>\n",
       "  <tbody>\n",
       "    <tr>\n",
       "      <th>0</th>\n",
       "      <td>CUBEO</td>\n",
       "      <td>\"El pueblo indígena Cubeo se ubica en los depa...</td>\n",
       "      <td>VAUPÉS</td>\n",
       "      <td>TUKANO</td>\n",
       "      <td>6984</td>\n",
       "      <td>4210</td>\n",
       "      <td>Vulnerable</td>\n",
       "    </tr>\n",
       "    <tr>\n",
       "      <th>1</th>\n",
       "      <td>CUIBA</td>\n",
       "      <td>\"Los kuiba, se ubican en el extremo oriental d...</td>\n",
       "      <td>CASANARE</td>\n",
       "      <td>AISLADA</td>\n",
       "      <td>769</td>\n",
       "      <td>621</td>\n",
       "      <td>En peligro de extinción</td>\n",
       "    </tr>\n",
       "    <tr>\n",
       "      <th>2</th>\n",
       "      <td>YUHUP</td>\n",
       "      <td>NaN</td>\n",
       "      <td>VAUPÉS</td>\n",
       "      <td>MAKU</td>\n",
       "      <td>150</td>\n",
       "      <td>0</td>\n",
       "      <td>En peligro</td>\n",
       "    </tr>\n",
       "    <tr>\n",
       "      <th>3</th>\n",
       "      <td>SIRIANO</td>\n",
       "      <td>\"Están localizados en el Departamento del Vaup...</td>\n",
       "      <td>VAUPÉS</td>\n",
       "      <td>TUKANO</td>\n",
       "      <td>749</td>\n",
       "      <td>0</td>\n",
       "      <td>En peligro</td>\n",
       "    </tr>\n",
       "    <tr>\n",
       "      <th>4</th>\n",
       "      <td>ACHAGUA</td>\n",
       "      <td>\"El pueblo indígena Achagua fue uno de los pue...</td>\n",
       "      <td>META</td>\n",
       "      <td>ARAWAK</td>\n",
       "      <td>796</td>\n",
       "      <td>514</td>\n",
       "      <td>En peligro de extinción</td>\n",
       "    </tr>\n",
       "    <tr>\n",
       "      <th>...</th>\n",
       "      <td>...</td>\n",
       "      <td>...</td>\n",
       "      <td>...</td>\n",
       "      <td>...</td>\n",
       "      <td>...</td>\n",
       "      <td>...</td>\n",
       "      <td>...</td>\n",
       "    </tr>\n",
       "    <tr>\n",
       "      <th>68</th>\n",
       "      <td>Gitanos-Rom</td>\n",
       "      <td>\"¿Quiénes son- Kon si von- los Rrom? son los\\n...</td>\n",
       "      <td>ANTIOQUIA</td>\n",
       "      <td>ROMANÍ</td>\n",
       "      <td>4858</td>\n",
       "      <td>4220</td>\n",
       "      <td>Vulnerable</td>\n",
       "    </tr>\n",
       "    <tr>\n",
       "      <th>69</th>\n",
       "      <td>CABIYARI</td>\n",
       "      <td>\"El pueblo Kawiyari vive a orillas del río Apa...</td>\n",
       "      <td>VAUPÉS</td>\n",
       "      <td>ARAWAK</td>\n",
       "      <td>233</td>\n",
       "      <td>82</td>\n",
       "      <td>En situación critica</td>\n",
       "    </tr>\n",
       "    <tr>\n",
       "      <th>70</th>\n",
       "      <td>MUINANE</td>\n",
       "      <td>\"A pesar de que en el listado del Dane se incl...</td>\n",
       "      <td>AMAZONAS</td>\n",
       "      <td>BORA</td>\n",
       "      <td>87</td>\n",
       "      <td>50</td>\n",
       "      <td>En peligro</td>\n",
       "    </tr>\n",
       "    <tr>\n",
       "      <th>71</th>\n",
       "      <td>PIAPOCO</td>\n",
       "      <td>\"Se localizan al sur del Departamento del Vich...</td>\n",
       "      <td>VICHADA</td>\n",
       "      <td>ARAWAK</td>\n",
       "      <td>3508</td>\n",
       "      <td>2932</td>\n",
       "      <td>En peligro</td>\n",
       "    </tr>\n",
       "    <tr>\n",
       "      <th>72</th>\n",
       "      <td>KARAPANA</td>\n",
       "      <td>\"Los Carapana se autodenominan Ucomaja \"\"los m...</td>\n",
       "      <td>VAUPÉS</td>\n",
       "      <td>TUKANO</td>\n",
       "      <td>482</td>\n",
       "      <td>231</td>\n",
       "      <td>En peligro</td>\n",
       "    </tr>\n",
       "  </tbody>\n",
       "</table>\n",
       "<p>73 rows × 7 columns</p>\n",
       "</div>"
      ],
      "text/plain": [
       "   Nombre de Lengua                              Descripción de Lengua  \\\n",
       "0             CUBEO  \"El pueblo indígena Cubeo se ubica en los depa...   \n",
       "1             CUIBA  \"Los kuiba, se ubican en el extremo oriental d...   \n",
       "2             YUHUP                                                NaN   \n",
       "3           SIRIANO  \"Están localizados en el Departamento del Vaup...   \n",
       "4           ACHAGUA  \"El pueblo indígena Achagua fue uno de los pue...   \n",
       "..              ...                                                ...   \n",
       "68      Gitanos-Rom  \"¿Quiénes son- Kon si von- los Rrom? son los\\n...   \n",
       "69         CABIYARI  \"El pueblo Kawiyari vive a orillas del río Apa...   \n",
       "70          MUINANE  \"A pesar de que en el listado del Dane se incl...   \n",
       "71          PIAPOCO  \"Se localizan al sur del Departamento del Vich...   \n",
       "72         KARAPANA  \"Los Carapana se autodenominan Ucomaja \"\"los m...   \n",
       "\n",
       "   Departamento Familia Lingüística  Número de Habitantes  \\\n",
       "0        VAUPÉS              TUKANO                  6984   \n",
       "1      CASANARE             AISLADA                   769   \n",
       "2        VAUPÉS                MAKU                   150   \n",
       "3        VAUPÉS              TUKANO                   749   \n",
       "4          META              ARAWAK                   796   \n",
       "..          ...                 ...                   ...   \n",
       "68    ANTIOQUIA              ROMANÍ                  4858   \n",
       "69       VAUPÉS              ARAWAK                   233   \n",
       "70     AMAZONAS                BORA                    87   \n",
       "71      VICHADA              ARAWAK                  3508   \n",
       "72       VAUPÉS              TUKANO                   482   \n",
       "\n",
       "    Número de Hablantes                Vitalidad  \n",
       "0                  4210               Vulnerable  \n",
       "1                   621  En peligro de extinción  \n",
       "2                     0               En peligro  \n",
       "3                     0               En peligro  \n",
       "4                   514  En peligro de extinción  \n",
       "..                  ...                      ...  \n",
       "68                 4220               Vulnerable  \n",
       "69                   82     En situación critica  \n",
       "70                   50               En peligro  \n",
       "71                 2932               En peligro  \n",
       "72                  231               En peligro  \n",
       "\n",
       "[73 rows x 7 columns]"
      ]
     },
     "execution_count": 12,
     "metadata": {},
     "output_type": "execute_result"
    }
   ],
   "source": [
    "df=pd.read_csv(os.path.join(path, fileName),sep=\",\",encoding='utf-8')\n",
    "df\n"
   ]
  },
  {
   "cell_type": "code",
   "execution_count": 8,
   "metadata": {},
   "outputs": [
    {
     "data": {
      "text/plain": [
       "'c:\\\\Users\\\\juanb\\\\proyectoDataSciense\\\\ProyectooDataSciense'"
      ]
     },
     "execution_count": 8,
     "metadata": {},
     "output_type": "execute_result"
    }
   ],
   "source": [
    "%pwd"
   ]
  },
  {
   "cell_type": "code",
   "execution_count": null,
   "metadata": {},
   "outputs": [],
   "source": []
  }
 ],
 "metadata": {
  "kernelspec": {
   "display_name": "Python 3",
   "language": "python",
   "name": "python3"
  },
  "language_info": {
   "codemirror_mode": {
    "name": "ipython",
    "version": 3
   },
   "file_extension": ".py",
   "mimetype": "text/x-python",
   "name": "python",
   "nbconvert_exporter": "python",
   "pygments_lexer": "ipython3",
   "version": "3.12.4"
  }
 },
 "nbformat": 4,
 "nbformat_minor": 2
}

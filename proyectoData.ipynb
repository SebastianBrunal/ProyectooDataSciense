{
 "cells": [
  {
   "cell_type": "code",
   "execution_count": 119,
   "metadata": {},
   "outputs": [
    {
     "name": "stdout",
     "output_type": "stream",
     "text": [
      "['.git', '.gitattributes', 'gas_prices.csv', 'most_valuable_teams (1).csv', 'proyectoData.ipynb', 'readme.Md']\n"
     ]
    },
    {
     "data": {
      "text/plain": [
       "['most_valuable_teams (1).csv']"
      ]
     },
     "execution_count": 119,
     "metadata": {},
     "output_type": "execute_result"
    }
   ],
   "source": [
    "import pandas as pd\n",
    "\n",
    "import matplotlib as mpl\n",
    "import matplotlib.pyplot as plt\n",
    "import numpy as np\n",
    "import os\n",
    "import warnings\n",
    "warnings.filterwarnings(\"ignore\")\n",
    "path= os.getcwd()\n",
    "print(os.listdir())\n",
    "fileName=[x for x in os.listdir () if 'most_valuable_teams (1).csv' in x]\n",
    "fileName"
   ]
  },
  {
   "cell_type": "code",
   "execution_count": 120,
   "metadata": {},
   "outputs": [
    {
     "name": "stdout",
     "output_type": "stream",
     "text": [
      "c:\\Users\\juanb\\proyectoDataSciense\\ProyectooDataSciense\\\n"
     ]
    }
   ],
   "source": [
    "path ='c:\\\\Users\\\\juanb\\\\proyectoDataSciense\\\\ProyectooDataSciense\\\\' \n",
    "fileName='most_valuable_teams (1).csv'\n",
    "print(path)"
   ]
  },
  {
   "cell_type": "code",
   "execution_count": 121,
   "metadata": {},
   "outputs": [
    {
     "data": {
      "text/html": [
       "<div>\n",
       "<style scoped>\n",
       "    .dataframe tbody tr th:only-of-type {\n",
       "        vertical-align: middle;\n",
       "    }\n",
       "\n",
       "    .dataframe tbody tr th {\n",
       "        vertical-align: top;\n",
       "    }\n",
       "\n",
       "    .dataframe thead th {\n",
       "        text-align: right;\n",
       "    }\n",
       "</style>\n",
       "<table border=\"1\" class=\"dataframe\">\n",
       "  <thead>\n",
       "    <tr style=\"text-align: right;\">\n",
       "      <th></th>\n",
       "      <th>Club</th>\n",
       "      <th>Competition</th>\n",
       "      <th>Age</th>\n",
       "      <th>Squad_size</th>\n",
       "      <th>Market_value</th>\n",
       "      <th>Market_value_of_players</th>\n",
       "      <th>MV_Top_18_players</th>\n",
       "      <th>Share_of_MV</th>\n",
       "    </tr>\n",
       "  </thead>\n",
       "  <tbody>\n",
       "    <tr>\n",
       "      <th>0</th>\n",
       "      <td>Manchester City</td>\n",
       "      <td>Premier League</td>\n",
       "      <td>27.2</td>\n",
       "      <td>23</td>\n",
       "      <td>€1.05bn</td>\n",
       "      <td>€45.75m</td>\n",
       "      <td>€988.00m</td>\n",
       "      <td>93.9 %</td>\n",
       "    </tr>\n",
       "    <tr>\n",
       "      <th>1</th>\n",
       "      <td>Paris Saint-Germain</td>\n",
       "      <td>Ligue 1</td>\n",
       "      <td>26.1</td>\n",
       "      <td>35</td>\n",
       "      <td>€997.75m</td>\n",
       "      <td>€28.51m</td>\n",
       "      <td>€889.00m</td>\n",
       "      <td>89.1 %</td>\n",
       "    </tr>\n",
       "    <tr>\n",
       "      <th>2</th>\n",
       "      <td>Manchester United</td>\n",
       "      <td>Premier League</td>\n",
       "      <td>28.0</td>\n",
       "      <td>28</td>\n",
       "      <td>€937.25m</td>\n",
       "      <td>€33.47m</td>\n",
       "      <td>€850.00m</td>\n",
       "      <td>90.7 %</td>\n",
       "    </tr>\n",
       "    <tr>\n",
       "      <th>3</th>\n",
       "      <td>Chelsea FC</td>\n",
       "      <td>Premier League</td>\n",
       "      <td>26.8</td>\n",
       "      <td>27</td>\n",
       "      <td>€882.50m</td>\n",
       "      <td>€32.69m</td>\n",
       "      <td>€816.00m</td>\n",
       "      <td>92.5 %</td>\n",
       "    </tr>\n",
       "    <tr>\n",
       "      <th>4</th>\n",
       "      <td>Liverpool FC</td>\n",
       "      <td>Premier League</td>\n",
       "      <td>27.0</td>\n",
       "      <td>27</td>\n",
       "      <td>€879.50m</td>\n",
       "      <td>€32.57m</td>\n",
       "      <td>€810.50m</td>\n",
       "      <td>92.2 %</td>\n",
       "    </tr>\n",
       "    <tr>\n",
       "      <th>...</th>\n",
       "      <td>...</td>\n",
       "      <td>...</td>\n",
       "      <td>...</td>\n",
       "      <td>...</td>\n",
       "      <td>...</td>\n",
       "      <td>...</td>\n",
       "      <td>...</td>\n",
       "      <td>...</td>\n",
       "    </tr>\n",
       "    <tr>\n",
       "      <th>95</th>\n",
       "      <td>Clube Atlético Mineiro</td>\n",
       "      <td>Série A</td>\n",
       "      <td>26.9</td>\n",
       "      <td>31</td>\n",
       "      <td>€98.45m</td>\n",
       "      <td>€3.18m</td>\n",
       "      <td>€84.95m</td>\n",
       "      <td>86.3 %</td>\n",
       "    </tr>\n",
       "    <tr>\n",
       "      <th>96</th>\n",
       "      <td>FC Augsburg</td>\n",
       "      <td>Bundesliga</td>\n",
       "      <td>26.1</td>\n",
       "      <td>28</td>\n",
       "      <td>€97.10m</td>\n",
       "      <td>€3.47m</td>\n",
       "      <td>€88.00m</td>\n",
       "      <td>90.6 %</td>\n",
       "    </tr>\n",
       "    <tr>\n",
       "      <th>97</th>\n",
       "      <td>Lokomotiv Moscow</td>\n",
       "      <td>Premier Liga</td>\n",
       "      <td>24.8</td>\n",
       "      <td>29</td>\n",
       "      <td>€97.03m</td>\n",
       "      <td>€3.35m</td>\n",
       "      <td>€86.50m</td>\n",
       "      <td>89.2 %</td>\n",
       "    </tr>\n",
       "    <tr>\n",
       "      <th>98</th>\n",
       "      <td>Trabzonspor</td>\n",
       "      <td>Süper Lig</td>\n",
       "      <td>26.7</td>\n",
       "      <td>29</td>\n",
       "      <td>€96.30m</td>\n",
       "      <td>€3.32m</td>\n",
       "      <td>€89.00m</td>\n",
       "      <td>92.4 %</td>\n",
       "    </tr>\n",
       "    <tr>\n",
       "      <th>99</th>\n",
       "      <td>CA Osasuna</td>\n",
       "      <td>LaLiga</td>\n",
       "      <td>27.7</td>\n",
       "      <td>27</td>\n",
       "      <td>€93.50m</td>\n",
       "      <td>€3.46m</td>\n",
       "      <td>€86.60m</td>\n",
       "      <td>92.6 %</td>\n",
       "    </tr>\n",
       "  </tbody>\n",
       "</table>\n",
       "<p>100 rows × 8 columns</p>\n",
       "</div>"
      ],
      "text/plain": [
       "                      Club     Competition   Age  Squad_size Market_value  \\\n",
       "0          Manchester City  Premier League  27.2          23      €1.05bn   \n",
       "1      Paris Saint-Germain         Ligue 1  26.1          35     €997.75m   \n",
       "2        Manchester United  Premier League  28.0          28     €937.25m   \n",
       "3               Chelsea FC  Premier League  26.8          27     €882.50m   \n",
       "4             Liverpool FC  Premier League  27.0          27     €879.50m   \n",
       "..                     ...             ...   ...         ...          ...   \n",
       "95  Clube Atlético Mineiro         Série A  26.9          31      €98.45m   \n",
       "96             FC Augsburg      Bundesliga  26.1          28      €97.10m   \n",
       "97        Lokomotiv Moscow    Premier Liga  24.8          29      €97.03m   \n",
       "98             Trabzonspor       Süper Lig  26.7          29      €96.30m   \n",
       "99              CA Osasuna          LaLiga  27.7          27      €93.50m   \n",
       "\n",
       "   Market_value_of_players MV_Top_18_players Share_of_MV  \n",
       "0                  €45.75m          €988.00m      93.9 %  \n",
       "1                  €28.51m          €889.00m      89.1 %  \n",
       "2                  €33.47m          €850.00m      90.7 %  \n",
       "3                  €32.69m          €816.00m      92.5 %  \n",
       "4                  €32.57m          €810.50m      92.2 %  \n",
       "..                     ...               ...         ...  \n",
       "95                  €3.18m           €84.95m      86.3 %  \n",
       "96                  €3.47m           €88.00m      90.6 %  \n",
       "97                  €3.35m           €86.50m      89.2 %  \n",
       "98                  €3.32m           €89.00m      92.4 %  \n",
       "99                  €3.46m           €86.60m      92.6 %  \n",
       "\n",
       "[100 rows x 8 columns]"
      ]
     },
     "execution_count": 121,
     "metadata": {},
     "output_type": "execute_result"
    }
   ],
   "source": [
    "df=pd.read_csv(os.path.join(path, fileName),sep=\",\",encoding='utf-8')\n",
    "df\n"
   ]
  },
  {
   "cell_type": "markdown",
   "metadata": {},
   "source": [
    "## 2DO TALLER\n"
   ]
  },
  {
   "cell_type": "markdown",
   "metadata": {
    "tags": [
     "esc"
    ]
   },
   "source": [
    "### Matplotlib\n",
    "\n"
   ]
  },
  {
   "cell_type": "code",
   "execution_count": 106,
   "metadata": {},
   "outputs": [
    {
     "data": {
      "text/plain": [
       "<Figure size 640x480 with 0 Axes>"
      ]
     },
     "metadata": {},
     "output_type": "display_data"
    },
    {
     "data": {
      "image/png": "[encoded data removed]",
      "text/plain": [
       "<Figure size 1000x600 with 1 Axes>"
      ]
     },
     "metadata": {},
     "output_type": "display_data"
    }
   ],
   "source": [
    "gas=pd.read_csv(\"gas_prices.csv\")\n",
    "plt.clf()\n",
    "plt.figure(figsize=(10, 6)) \n",
    "plt.title(\"PRECIO DE EL GAS EN USD\")\n",
    "plt.plot(gas.Year, gas.Japan,'b--')\n",
    "plt.plot(gas.Year, gas.Australia, 'b .')\n",
    "plt.plot(gas.Year, gas['South Korea'])\n",
    "plt.xlabel('Año')  \n",
    "plt.ylabel('Precio (USD)') \n",
    "\n",
    "\n",
    "\n",
    "\n",
    "plt.grid(True)\n",
    "plt.legend() ##    Profe no se porque este comando no me da\n",
    "plt.show()"
   ]
  },
  {
   "cell_type": "markdown",
   "metadata": {},
   "source": [
    "### SEABORN"
   ]
  },
  {
   "cell_type": "code",
   "execution_count": 102,
   "metadata": {},
   "outputs": [],
   "source": [
    "\n",
    "import seaborn as sns\n",
    "\n"
   ]
  },
  {
   "cell_type": "code",
   "execution_count": 118,
   "metadata": {},
   "outputs": [
    {
     "data": {
      "image/png": "[encoded data removed]",
      "text/plain": [
       "<Figure size 1200x800 with 1 Axes>"
      ]
     },
     "metadata": {},
     "output_type": "display_data"
    }
   ],
   "source": [
    "\n",
    "\n",
    "file_path = 'gas_prices.csv'\n",
    "gas_data = pd.read_csv(file_path)\n",
    "\n",
    "\n",
    "plt.figure(figsize=(12, 8))\n",
    "\n",
    "\n",
    "sns.scatterplot(x='USA', y='UK', hue='Year', size='Year', sizes=(50, 200), palette='viridis', data=gas_data, legend='brief')\n",
    "\n",
    "\n",
    "sns.regplot(x='USA', y='UK', data=gas_data, scatter=False, color='red', line_kws={\"linewidth\":1.5})\n",
    "\n",
    "\n",
    "for i in range(gas_data.shape[0]):\n",
    "    plt.text(gas_data['USA'][i] + 0.02, gas_data['UK'][i], gas_data['Year'][i], fontsize=9, ha='center')\n",
    "\n",
    "\n",
    "plt.title('Comparación de Precios de Gasolina: USA vs UK (1990-2008)', fontsize=16)\n",
    "plt.xlabel('Precio de Gasolina en USA (USD por galón)', fontsize=14)\n",
    "plt.ylabel('Precio de Gasolina en UK (USD por galón)', fontsize=14)\n",
    "\n",
    "\n",
    "plt.legend(title='Año', loc='upper left', bbox_to_anchor=(1, 1))\n",
    "\n",
    "\n",
    "plt.show()"
   ]
  },
  {
   "cell_type": "markdown",
   "metadata": {},
   "source": [
    "### PLOTLY"
   ]
  },
  {
   "cell_type": "code",
   "execution_count": 138,
   "metadata": {},
   "outputs": [
    {
     "name": "stdout",
     "output_type": "stream",
     "text": [
      "Collecting nbformat\n",
      "  Downloading nbformat-5.10.4-py3-none-any.whl.metadata (3.6 kB)\n",
      "Collecting fastjsonschema>=2.15 (from nbformat)\n",
      "  Downloading fastjsonschema-2.20.0-py3-none-any.whl.metadata (2.1 kB)\n",
      "Collecting jsonschema>=2.6 (from nbformat)\n",
      "  Downloading jsonschema-4.23.0-py3-none-any.whl.metadata (7.9 kB)\n",
      "Requirement already satisfied: jupyter-core!=5.0.*,>=4.12 in c:\\users\\juanb\\appdata\\roaming\\python\\python312\\site-packages (from nbformat) (5.7.2)\n",
      "Requirement already satisfied: traitlets>=5.1 in c:\\users\\juanb\\appdata\\roaming\\python\\python312\\site-packages (from nbformat) (5.14.3)\n",
      "Collecting attrs>=22.2.0 (from jsonschema>=2.6->nbformat)\n",
      "  Downloading attrs-24.2.0-py3-none-any.whl.metadata (11 kB)\n",
      "Collecting jsonschema-specifications>=2023.03.6 (from jsonschema>=2.6->nbformat)\n",
      "  Downloading jsonschema_specifications-2023.12.1-py3-none-any.whl.metadata (3.0 kB)\n",
      "Collecting referencing>=0.28.4 (from jsonschema>=2.6->nbformat)\n",
      "  Downloading referencing-0.35.1-py3-none-any.whl.metadata (2.8 kB)\n",
      "Collecting rpds-py>=0.7.1 (from jsonschema>=2.6->nbformat)\n",
      "  Downloading rpds_py-0.20.0-cp312-none-win_amd64.whl.metadata (4.2 kB)\n",
      "Requirement already satisfied: platformdirs>=2.5 in c:\\users\\juanb\\appdata\\roaming\\python\\python312\\site-packages (from jupyter-core!=5.0.*,>=4.12->nbformat) (4.2.2)\n",
      "Requirement already satisfied: pywin32>=300 in c:\\users\\juanb\\appdata\\roaming\\python\\python312\\site-packages (from jupyter-core!=5.0.*,>=4.12->nbformat) (306)\n",
      "Downloading nbformat-5.10.4-py3-none-any.whl (78 kB)\n",
      "   ---------------------------------------- 0.0/78.5 kB ? eta -:--:--\n",
      "   ------------------------------------ --- 71.7/78.5 kB 1.3 MB/s eta 0:00:01\n",
      "   ---------------------------------------- 78.5/78.5 kB 1.5 MB/s eta 0:00:00\n",
      "Downloading fastjsonschema-2.20.0-py3-none-any.whl (23 kB)\n",
      "Downloading jsonschema-4.23.0-py3-none-any.whl (88 kB)\n",
      "   ---------------------------------------- 0.0/88.5 kB ? eta -:--:--\n",
      "   ---------------------------------------- 88.5/88.5 kB 4.9 MB/s eta 0:00:00\n",
      "Downloading attrs-24.2.0-py3-none-any.whl (63 kB)\n",
      "   ---------------------------------------- 0.0/63.0 kB ? eta -:--:--\n",
      "   ---------------------------------------- 63.0/63.0 kB ? eta 0:00:00\n",
      "Downloading jsonschema_specifications-2023.12.1-py3-none-any.whl (18 kB)\n",
      "Downloading referencing-0.35.1-py3-none-any.whl (26 kB)\n",
      "Downloading rpds_py-0.20.0-cp312-none-win_amd64.whl (214 kB)\n",
      "   ---------------------------------------- 0.0/214.5 kB ? eta -:--:--\n",
      "   ---------------------------- ----------- 153.6/214.5 kB 4.6 MB/s eta 0:00:01\n",
      "   ---------------------------------------- 214.5/214.5 kB 3.2 MB/s eta 0:00:00\n",
      "Installing collected packages: fastjsonschema, rpds-py, attrs, referencing, jsonschema-specifications, jsonschema, nbformat\n",
      "Successfully installed attrs-24.2.0 fastjsonschema-2.20.0 jsonschema-4.23.0 jsonschema-specifications-2023.12.1 nbformat-5.10.4 referencing-0.35.1 rpds-py-0.20.0\n",
      "Note: you may need to restart the kernel to use updated packages.\n"
     ]
    },
    {
     "name": "stderr",
     "output_type": "stream",
     "text": [
      "  WARNING: The script jsonschema.exe is installed in 'c:\\Users\\juanb\\AppData\\Local\\Programs\\Python\\Python312\\Scripts' which is not on PATH.\n",
      "  Consider adding this directory to PATH or, if you prefer to suppress this warning, use --no-warn-script-location.\n",
      "  WARNING: The script jupyter-trust.exe is installed in 'c:\\Users\\juanb\\AppData\\Local\\Programs\\Python\\Python312\\Scripts' which is not on PATH.\n",
      "  Consider adding this directory to PATH or, if you prefer to suppress this warning, use --no-warn-script-location.\n",
      "\n",
      "[notice] A new release of pip is available: 24.0 -> 24.2\n",
      "[notice] To update, run: python.exe -m pip install --upgrade pip\n"
     ]
    }
   ],
   "source": [
    "%pip install nbformat\n",
    "\n",
    "\n",
    "\n",
    "\n"
   ]
  },
  {
   "cell_type": "code",
   "execution_count": 3,
   "metadata": {},
   "outputs": [
    {
     "data": {
      "application/vnd.plotly.v1+json": {
       "config": {
        "plotlyServerURL": "https://plot.ly"
       },
       "data": [
        {
         "alignmentgroup": "True",
         "hovertemplate": "Country=%{x}<br>Precio de la Gasolina (USD)=%{y}<extra></extra>",
         "legendgroup": "Australia",
         "marker": {
          "color": "#636efa"
         },
         "name": "Australia",
         "notched": false,
         "offsetgroup": "Australia",
         "orientation": "v",
         "showlegend": true,
         "type": "box",
         "x": [
          "Australia",
          "Australia",
          "Australia",
          "Australia",
          "Australia",
          "Australia",
          "Australia",
          "Australia",
          "Australia",
          "Australia",
          "Australia",
          "Australia",
          "Australia",
          "Australia",
          "Australia",
          "Australia",
          "Australia",
          "Australia",
          "Australia"
         ],
         "x0": " ",
         "xaxis": "x",
         "y": [
          null,
          1.96,
          1.89,
          1.73,
          1.84,
          1.95,
          2.12,
          2.05,
          1.63,
          1.72,
          1.94,
          1.71,
          1.76,
          2.19,
          2.72,
          3.23,
          3.54,
          3.85,
          4.45
         ],
         "y0": " ",
         "yaxis": "y"
        },
        {
         "alignmentgroup": "True",
         "hovertemplate": "Country=%{x}<br>Precio de la Gasolina (USD)=%{y}<extra></extra>",
         "legendgroup": "Japan",
         "marker": {
          "color": "#EF553B"
         },
         "name": "Japan",
         "notched": false,
         "offsetgroup": "Japan",
         "orientation": "v",
         "showlegend": true,
         "type": "box",
         "x": [
          "Japan",
          "Japan",
          "Japan",
          "Japan",
          "Japan",
          "Japan",
          "Japan",
          "Japan",
          "Japan",
          "Japan",
          "Japan",
          "Japan",
          "Japan",
          "Japan",
          "Japan",
          "Japan",
          "Japan",
          "Japan",
          "Japan"
         ],
         "x0": " ",
         "xaxis": "x",
         "y": [
          3.16,
          3.46,
          3.58,
          4.16,
          4.36,
          4.43,
          3.64,
          3.26,
          2.82,
          3.27,
          3.65,
          3.27,
          3.15,
          3.47,
          3.93,
          4.28,
          4.47,
          4.49,
          5.74
         ],
         "y0": " ",
         "yaxis": "y"
        },
        {
         "alignmentgroup": "True",
         "hovertemplate": "Country=%{x}<br>Precio de la Gasolina (USD)=%{y}<extra></extra>",
         "legendgroup": "South Korea",
         "marker": {
          "color": "#00cc96"
         },
         "name": "South Korea",
         "notched": false,
         "offsetgroup": "South Korea",
         "orientation": "v",
         "showlegend": true,
         "type": "box",
         "x": [
          "South Korea",
          "South Korea",
          "South Korea",
          "South Korea",
          "South Korea",
          "South Korea",
          "South Korea",
          "South Korea",
          "South Korea",
          "South Korea",
          "South Korea",
          "South Korea",
          "South Korea",
          "South Korea",
          "South Korea",
          "South Korea",
          "South Korea",
          "South Korea",
          "South Korea"
         ],
         "x0": " ",
         "xaxis": "x",
         "y": [
          2.05,
          2.49,
          2.65,
          2.88,
          2.87,
          2.94,
          3.18,
          3.34,
          3.04,
          3.8,
          4.18,
          3.76,
          3.84,
          4.11,
          4.51,
          5.28,
          5.92,
          6.21,
          5.83
         ],
         "y0": " ",
         "yaxis": "y"
        }
       ],
       "layout": {
        "boxmode": "overlay",
        "legend": {
         "title": {
          "text": "Country"
         },
         "tracegroupgap": 0
        },
        "template": {
         "data": {
          "bar": [
           {
            "error_x": {
             "color": "#2a3f5f"
            },
            "error_y": {
             "color": "#2a3f5f"
            },
            "marker": {
             "line": {
              "color": "#E5ECF6",
              "width": 0.5
             },
             "pattern": {
              "fillmode": "overlay",
              "size": 10,
              "solidity": 0.2
             }
            },
            "type": "bar"
           }
          ],
          "barpolar": [
           {
            "marker": {
             "line": {
              "color": "#E5ECF6",
              "width": 0.5
             },
             "pattern": {
              "fillmode": "overlay",
              "size": 10,
              "solidity": 0.2
             }
            },
            "type": "barpolar"
           }
          ],
          "carpet": [
           {
            "aaxis": {
             "endlinecolor": "#2a3f5f",
             "gridcolor": "white",
             "linecolor": "white",
             "minorgridcolor": "white",
             "startlinecolor": "#2a3f5f"
            },
            "baxis": {
             "endlinecolor": "#2a3f5f",
             "gridcolor": "white",
             "linecolor": "white",
             "minorgridcolor": "white",
             "startlinecolor": "#2a3f5f"
            },
            "type": "carpet"
           }
          ],
          "choropleth": [
           {
            "colorbar": {
             "outlinewidth": 0,
             "ticks": ""
            },
            "type": "choropleth"
           }
          ],
          "contour": [
           {
            "colorbar": {
             "outlinewidth": 0,
             "ticks": ""
            },
            "colorscale": [
             [
              0,
              "#0d0887"
             ],
             [
              0.1111111111111111,
              "#46039f"
             ],
             [
              0.2222222222222222,
              "#7201a8"
             ],
             [
              0.3333333333333333,
              "#9c179e"
             ],
             [
              0.4444444444444444,
              "#bd3786"
             ],
             [
              0.5555555555555556,
              "#d8576b"
             ],
             [
              0.6666666666666666,
              "#ed7953"
             ],
             [
              0.7777777777777778,
              "#fb9f3a"
             ],
             [
              0.8888888888888888,
              "#fdca26"
             ],
             [
              1,
              "#f0f921"
             ]
            ],
            "type": "contour"
           }
          ],
          "contourcarpet": [
           {
            "colorbar": {
             "outlinewidth": 0,
             "ticks": ""
            },
            "type": "contourcarpet"
           }
          ],
          "heatmap": [
           {
            "colorbar": {
             "outlinewidth": 0,
             "ticks": ""
            },
            "colorscale": [
             [
              0,
              "#0d0887"
             ],
             [
              0.1111111111111111,
              "#46039f"
             ],
             [
              0.2222222222222222,
              "#7201a8"
             ],
             [
              0.3333333333333333,
              "#9c179e"
             ],
             [
              0.4444444444444444,
              "#bd3786"
             ],
             [
              0.5555555555555556,
              "#d8576b"
             ],
             [
              0.6666666666666666,
              "#ed7953"
             ],
             [
              0.7777777777777778,
              "#fb9f3a"
             ],
             [
              0.8888888888888888,
              "#fdca26"
             ],
             [
              1,
              "#f0f921"
             ]
            ],
            "type": "heatmap"
           }
          ],
          "heatmapgl": [
           {
            "colorbar": {
             "outlinewidth": 0,
             "ticks": ""
            },
            "colorscale": [
             [
              0,
              "#0d0887"
             ],
             [
              0.1111111111111111,
              "#46039f"
             ],
             [
              0.2222222222222222,
              "#7201a8"
             ],
             [
              0.3333333333333333,
              "#9c179e"
             ],
             [
              0.4444444444444444,
              "#bd3786"
             ],
             [
              0.5555555555555556,
              "#d8576b"
             ],
             [
              0.6666666666666666,
              "#ed7953"
             ],
             [
              0.7777777777777778,
              "#fb9f3a"
             ],
             [
              0.8888888888888888,
              "#fdca26"
             ],
             [
              1,
              "#f0f921"
             ]
            ],
            "type": "heatmapgl"
           }
          ],
          "histogram": [
           {
            "marker": {
             "pattern": {
              "fillmode": "overlay",
              "size": 10,
              "solidity": 0.2
             }
            },
            "type": "histogram"
           }
          ],
          "histogram2d": [
           {
            "colorbar": {
             "outlinewidth": 0,
             "ticks": ""
            },
            "colorscale": [
             [
              0,
              "#0d0887"
             ],
             [
              0.1111111111111111,
              "#46039f"
             ],
             [
              0.2222222222222222,
              "#7201a8"
             ],
             [
              0.3333333333333333,
              "#9c179e"
             ],
             [
              0.4444444444444444,
              "#bd3786"
             ],
             [
              0.5555555555555556,
              "#d8576b"
             ],
             [
              0.6666666666666666,
              "#ed7953"
             ],
             [
              0.7777777777777778,
              "#fb9f3a"
             ],
             [
              0.8888888888888888,
              "#fdca26"
             ],
             [
              1,
              "#f0f921"
             ]
            ],
            "type": "histogram2d"
           }
          ],
          "histogram2dcontour": [
           {
            "colorbar": {
             "outlinewidth": 0,
             "ticks": ""
            },
            "colorscale": [
             [
              0,
              "#0d0887"
             ],
             [
              0.1111111111111111,
              "#46039f"
             ],
             [
              0.2222222222222222,
              "#7201a8"
             ],
             [
              0.3333333333333333,
              "#9c179e"
             ],
             [
              0.4444444444444444,
              "#bd3786"
             ],
             [
              0.5555555555555556,
              "#d8576b"
             ],
             [
              0.6666666666666666,
              "#ed7953"
             ],
             [
              0.7777777777777778,
              "#fb9f3a"
             ],
             [
              0.8888888888888888,
              "#fdca26"
             ],
             [
              1,
              "#f0f921"
             ]
            ],
            "type": "histogram2dcontour"
           }
          ],
          "mesh3d": [
           {
            "colorbar": {
             "outlinewidth": 0,
             "ticks": ""
            },
            "type": "mesh3d"
           }
          ],
          "parcoords": [
           {
            "line": {
             "colorbar": {
              "outlinewidth": 0,
              "ticks": ""
             }
            },
            "type": "parcoords"
           }
          ],
          "pie": [
           {
            "automargin": true,
            "type": "pie"
           }
          ],
          "scatter": [
           {
            "fillpattern": {
             "fillmode": "overlay",
             "size": 10,
             "solidity": 0.2
            },
            "type": "scatter"
           }
          ],
          "scatter3d": [
           {
            "line": {
             "colorbar": {
              "outlinewidth": 0,
              "ticks": ""
             }
            },
            "marker": {
             "colorbar": {
              "outlinewidth": 0,
              "ticks": ""
             }
            },
            "type": "scatter3d"
           }
          ],
          "scattercarpet": [
           {
            "marker": {
             "colorbar": {
              "outlinewidth": 0,
              "ticks": ""
             }
            },
            "type": "scattercarpet"
           }
          ],
          "scattergeo": [
           {
            "marker": {
             "colorbar": {
              "outlinewidth": 0,
              "ticks": ""
             }
            },
            "type": "scattergeo"
           }
          ],
          "scattergl": [
           {
            "marker": {
             "colorbar": {
              "outlinewidth": 0,
              "ticks": ""
             }
            },
            "type": "scattergl"
           }
          ],
          "scattermapbox": [
           {
            "marker": {
             "colorbar": {
              "outlinewidth": 0,
              "ticks": ""
             }
            },
            "type": "scattermapbox"
           }
          ],
          "scatterpolar": [
           {
            "marker": {
             "colorbar": {
              "outlinewidth": 0,
              "ticks": ""
             }
            },
            "type": "scatterpolar"
           }
          ],
          "scatterpolargl": [
           {
            "marker": {
             "colorbar": {
              "outlinewidth": 0,
              "ticks": ""
             }
            },
            "type": "scatterpolargl"
           }
          ],
          "scatterternary": [
           {
            "marker": {
             "colorbar": {
              "outlinewidth": 0,
              "ticks": ""
             }
            },
            "type": "scatterternary"
           }
          ],
          "surface": [
           {
            "colorbar": {
             "outlinewidth": 0,
             "ticks": ""
            },
            "colorscale": [
             [
              0,
              "#0d0887"
             ],
             [
              0.1111111111111111,
              "#46039f"
             ],
             [
              0.2222222222222222,
              "#7201a8"
             ],
             [
              0.3333333333333333,
              "#9c179e"
             ],
             [
              0.4444444444444444,
              "#bd3786"
             ],
             [
              0.5555555555555556,
              "#d8576b"
             ],
             [
              0.6666666666666666,
              "#ed7953"
             ],
             [
              0.7777777777777778,
              "#fb9f3a"
             ],
             [
              0.8888888888888888,
              "#fdca26"
             ],
             [
              1,
              "#f0f921"
             ]
            ],
            "type": "surface"
           }
          ],
          "table": [
           {
            "cells": {
             "fill": {
              "color": "#EBF0F8"
             },
             "line": {
              "color": "white"
             }
            },
            "header": {
             "fill": {
              "color": "#C8D4E3"
             },
             "line": {
              "color": "white"
             }
            },
            "type": "table"
           }
          ]
         },
         "layout": {
          "annotationdefaults": {
           "arrowcolor": "#2a3f5f",
           "arrowhead": 0,
           "arrowwidth": 1
          },
          "autotypenumbers": "strict",
          "coloraxis": {
           "colorbar": {
            "outlinewidth": 0,
            "ticks": ""
           }
          },
          "colorscale": {
           "diverging": [
            [
             0,
             "#8e0152"
            ],
            [
             0.1,
             "#c51b7d"
            ],
            [
             0.2,
             "#de77ae"
            ],
            [
             0.3,
             "#f1b6da"
            ],
            [
             0.4,
             "#fde0ef"
            ],
            [
             0.5,
             "#f7f7f7"
            ],
            [
             0.6,
             "#e6f5d0"
            ],
            [
             0.7,
             "#b8e186"
            ],
            [
             0.8,
             "#7fbc41"
            ],
            [
             0.9,
             "#4d9221"
            ],
            [
             1,
             "#276419"
            ]
           ],
           "sequential": [
            [
             0,
             "#0d0887"
            ],
            [
             0.1111111111111111,
             "#46039f"
            ],
            [
             0.2222222222222222,
             "#7201a8"
            ],
            [
             0.3333333333333333,
             "#9c179e"
            ],
            [
             0.4444444444444444,
             "#bd3786"
            ],
            [
             0.5555555555555556,
             "#d8576b"
            ],
            [
             0.6666666666666666,
             "#ed7953"
            ],
            [
             0.7777777777777778,
             "#fb9f3a"
            ],
            [
             0.8888888888888888,
             "#fdca26"
            ],
            [
             1,
             "#f0f921"
            ]
           ],
           "sequentialminus": [
            [
             0,
             "#0d0887"
            ],
            [
             0.1111111111111111,
             "#46039f"
            ],
            [
             0.2222222222222222,
             "#7201a8"
            ],
            [
             0.3333333333333333,
             "#9c179e"
            ],
            [
             0.4444444444444444,
             "#bd3786"
            ],
            [
             0.5555555555555556,
             "#d8576b"
            ],
            [
             0.6666666666666666,
             "#ed7953"
            ],
            [
             0.7777777777777778,
             "#fb9f3a"
            ],
            [
             0.8888888888888888,
             "#fdca26"
            ],
            [
             1,
             "#f0f921"
            ]
           ]
          },
          "colorway": [
           "#636efa",
           "#EF553B",
           "#00cc96",
           "#ab63fa",
           "#FFA15A",
           "#19d3f3",
           "#FF6692",
           "#B6E880",
           "#FF97FF",
           "#FECB52"
          ],
          "font": {
           "color": "#2a3f5f"
          },
          "geo": {
           "bgcolor": "white",
           "lakecolor": "white",
           "landcolor": "#E5ECF6",
           "showlakes": true,
           "showland": true,
           "subunitcolor": "white"
          },
          "hoverlabel": {
           "align": "left"
          },
          "hovermode": "closest",
          "mapbox": {
           "style": "light"
          },
          "paper_bgcolor": "white",
          "plot_bgcolor": "#E5ECF6",
          "polar": {
           "angularaxis": {
            "gridcolor": "white",
            "linecolor": "white",
            "ticks": ""
           },
           "bgcolor": "#E5ECF6",
           "radialaxis": {
            "gridcolor": "white",
            "linecolor": "white",
            "ticks": ""
           }
          },
          "scene": {
           "xaxis": {
            "backgroundcolor": "#E5ECF6",
            "gridcolor": "white",
            "gridwidth": 2,
            "linecolor": "white",
            "showbackground": true,
            "ticks": "",
            "zerolinecolor": "white"
           },
           "yaxis": {
            "backgroundcolor": "#E5ECF6",
            "gridcolor": "white",
            "gridwidth": 2,
            "linecolor": "white",
            "showbackground": true,
            "ticks": "",
            "zerolinecolor": "white"
           },
           "zaxis": {
            "backgroundcolor": "#E5ECF6",
            "gridcolor": "white",
            "gridwidth": 2,
            "linecolor": "white",
            "showbackground": true,
            "ticks": "",
            "zerolinecolor": "white"
           }
          },
          "shapedefaults": {
           "line": {
            "color": "#2a3f5f"
           }
          },
          "ternary": {
           "aaxis": {
            "gridcolor": "white",
            "linecolor": "white",
            "ticks": ""
           },
           "baxis": {
            "gridcolor": "white",
            "linecolor": "white",
            "ticks": ""
           },
           "bgcolor": "#E5ECF6",
           "caxis": {
            "gridcolor": "white",
            "linecolor": "white",
            "ticks": ""
           }
          },
          "title": {
           "x": 0.05
          },
          "xaxis": {
           "automargin": true,
           "gridcolor": "white",
           "linecolor": "white",
           "ticks": "",
           "title": {
            "standoff": 15
           },
           "zerolinecolor": "white",
           "zerolinewidth": 2
          },
          "yaxis": {
           "automargin": true,
           "gridcolor": "white",
           "linecolor": "white",
           "ticks": "",
           "title": {
            "standoff": 15
           },
           "zerolinecolor": "white",
           "zerolinewidth": 2
          }
         }
        },
        "title": {
         "text": "Comparación de Precios de Gasolina (Australia, Japón, Corea del Sur)"
        },
        "xaxis": {
         "anchor": "y",
         "categoryarray": [
          "Australia",
          "Japan",
          "South Korea"
         ],
         "categoryorder": "array",
         "domain": [
          0,
          1
         ],
         "title": {
          "text": "Country"
         }
        },
        "yaxis": {
         "anchor": "x",
         "domain": [
          0,
          1
         ],
         "title": {
          "text": "Precio de la Gasolina (USD)"
         }
        }
       }
      }
     },
     "metadata": {},
     "output_type": "display_data"
    }
   ],
   "source": [
    "\n",
    "import pandas as pd\n",
    "import plotly.express as px\n",
    "\n",
    "\n",
    "file_path = 'gas_prices.csv'\n",
    "gas_prices_df = pd.read_csv(file_path)\n",
    "\n",
    "\n",
    "selected_countries_df = gas_prices_df[['Year', 'Australia', 'Japan', 'South Korea']]\n",
    "\n",
    "\n",
    "melted_df = selected_countries_df.melt(id_vars=['Year'], value_vars=['Australia', 'Japan', 'South Korea'],\n",
    "                                       var_name='Country', value_name='Gasoline Price')\n",
    "\n",
    "\n",
    "fig = px.box(melted_df, x='Country', y='Gasoline Price',\n",
    "             title='Comparación de Precios de Gasolina (Australia, Japón, Corea del Sur)',\n",
    "             labels={'Gasoline Price': 'Precio de la Gasolina (USD)'},\n",
    "             color='Country')\n",
    "\n",
    "\n",
    "\n",
    "fig.show()\n"
   ]
  },
  {
   "cell_type": "markdown",
   "metadata": {},
   "source": [
    "# 3er Trabajo datasciense\n",
    "\n",
    "## 1. Generar preguntas de interés o hipótesis sobre el dataset\n",
    "\n",
    "- **¿Existe una relación entre el tamaño del equipo y el valor de mercado total del club?**\n",
    "- **¿Los equipos más jóvenes tienen un valor de mercado promedio por jugador mayor que los equipos más antiguos?**\n",
    "- **¿Cuál es la diferencia en el valor de mercado entre equipos de diferentes competiciones (por ejemplo, Premier League vs. La Liga)?**\n",
    "- **¿Qué proporción del valor total del club está representada por sus 18 mejores jugadores y cómo varía entre las diferentes competiciones?**\n",
    "\n",
    "## 2. Crear visualizaciones y resúmenes numéricos\n",
    "\n",
    "- **Voy a generar algunas visualizaciones, como gráficos de dispersión, histogramas y gráficos de caja, para visualizar las relaciones entre las variables y analizar sus distribuciones.**\n",
    "\n",
    "## Interpretación de Resultados\n",
    "\n",
    "### Tamaño del equipo vs. Valor de mercado\n",
    "\n",
    "- **No parece haber una relación clara o lineal entre el tamaño del equipo y su valor de mercado. Equipos con un tamaño similar pueden tener valores de mercado significativamente diferentes.**\n",
    "\n",
    "### Diferencias por competición\n",
    "\n",
    "- **Los clubes de competiciones como la Premier League y La Liga parecen tener un valor de mercado más altoen comparación con otros, aunque la distribución dentro de cada competición varía.**\n"
   ]
  }
 ],
 "metadata": {
  "kernelspec": {
   "display_name": "Python 3",
   "language": "python",
   "name": "python3"
  },
  "language_info": {
   "codemirror_mode": {
    "name": "ipython",
    "version": 3
   },
   "file_extension": ".py",
   "mimetype": "text/x-python",
   "name": "python",
   "nbconvert_exporter": "python",
   "pygments_lexer": "ipython3",
   "version": "3.12.4"
  }
 },
 "nbformat": 4,
 "nbformat_minor": 2
}
